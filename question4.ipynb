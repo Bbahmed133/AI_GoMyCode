{
 "cells": [
  {
   "cell_type": "code",
   "execution_count": 2,
   "id": "262d9f0b",
   "metadata": {},
   "outputs": [
    {
     "name": "stdout",
     "output_type": "stream",
     "text": [
      "type something: hello world\n",
      "type the index of the character that you wanna delete: 8\n",
      "hello wold\n"
     ]
    }
   ],
   "source": [
    "ch = input('type something: ')\n",
    "n = -1\n",
    "ch1 = ''\n",
    "while not(n in range(0,len(ch))):\n",
    "    x = int(input('type the index of the character that you wanna delete: '))\n",
    "    if x < len(ch) and x > -1:\n",
    "        n = int(x)\n",
    "    else:\n",
    "        print(\"index out of range\")\n",
    "    \n",
    "for i in range(len(ch)):\n",
    "    if i != n:\n",
    "        ch1 += ch[i]\n",
    "    \n",
    "print(ch1)"
   ]
  },
  {
   "cell_type": "code",
   "execution_count": null,
   "id": "0d9a8b26",
   "metadata": {},
   "outputs": [],
   "source": []
  },
  {
   "cell_type": "code",
   "execution_count": null,
   "id": "6ebcd880",
   "metadata": {},
   "outputs": [],
   "source": []
  }
 ],
 "metadata": {
  "kernelspec": {
   "display_name": "Python 3 (ipykernel)",
   "language": "python",
   "name": "python3"
  },
  "language_info": {
   "codemirror_mode": {
    "name": "ipython",
    "version": 3
   },
   "file_extension": ".py",
   "mimetype": "text/x-python",
   "name": "python",
   "nbconvert_exporter": "python",
   "pygments_lexer": "ipython3",
   "version": "3.9.7"
  }
 },
 "nbformat": 4,
 "nbformat_minor": 5
}
