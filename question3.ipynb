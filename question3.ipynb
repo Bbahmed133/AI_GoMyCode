{
 "cells": [
  {
   "cell_type": "code",
   "execution_count": 4,
   "id": "ebe888ce",
   "metadata": {},
   "outputs": [
    {
     "name": "stdout",
     "output_type": "stream",
     "text": [
      "enter a number: 6\n",
      "{'0': 0, '1': 1, '2': 4, '3': 9, '4': 16, '5': 25, '6': 36}\n"
     ]
    }
   ],
   "source": [
    "\n",
    "d = {}\n",
    "x = int(input(\"enter a number: \"))\n",
    "\n",
    "for i in range(x+1) :\n",
    "    ch = str(i)\n",
    "    d[ch]=i*i\n",
    "print(d)\n"
   ]
  },
  {
   "cell_type": "code",
   "execution_count": null,
   "id": "66202e91",
   "metadata": {},
   "outputs": [],
   "source": []
  }
 ],
 "metadata": {
  "kernelspec": {
   "display_name": "Python 3 (ipykernel)",
   "language": "python",
   "name": "python3"
  },
  "language_info": {
   "codemirror_mode": {
    "name": "ipython",
    "version": 3
   },
   "file_extension": ".py",
   "mimetype": "text/x-python",
   "name": "python",
   "nbconvert_exporter": "python",
   "pygments_lexer": "ipython3",
   "version": "3.9.7"
  }
 },
 "nbformat": 4,
 "nbformat_minor": 5
}
